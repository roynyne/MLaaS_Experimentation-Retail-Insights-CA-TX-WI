{
 "cells": [
  {
   "cell_type": "code",
   "execution_count": 1,
   "id": "2f52bd63",
   "metadata": {},
   "outputs": [
    {
     "name": "stderr",
     "output_type": "stream",
     "text": [
      "Importing plotly failed. Interactive plots will not work.\n"
     ]
    }
   ],
   "source": [
    "import pandas as pd\n",
    "import numpy as np\n",
    "from sklearn.model_selection import train_test_split\n",
    "from sklearn.preprocessing import LabelEncoder\n",
    "from sklearn.linear_model import Ridge\n",
    "from sklearn.metrics import mean_squared_error\n",
    "import xgboost as xgb\n",
    "from statsmodels.tsa.arima.model import ARIMA\n",
    "from prophet import Prophet\n",
    "import matplotlib.pyplot as plt\n",
    "import joblib"
   ]
  },
  {
   "cell_type": "code",
   "execution_count": 2,
   "id": "e77c71fa",
   "metadata": {},
   "outputs": [],
   "source": [
    "# Function to load datasets\n",
    "def load_data():\n",
    "    sales_train_df = pd.read_csv('/Users/bananavodka/Projects/at2_mla/at2_mla/data/raw/sales_train.csv')\n",
    "    calendar_df = pd.read_csv('/Users/bananavodka/Projects/at2_mla/at2_mla/data/raw/calendar.csv')\n",
    "    calendar_events_df = pd.read_csv('/Users/bananavodka/Projects/at2_mla/at2_mla/data/raw/calendar_events.csv')\n",
    "    sales_test_df = pd.read_csv('/Users/bananavodka/Projects/at2_mla/at2_mla/data/raw/sales_test.csv')\n",
    "    items_weekly_sales_df = pd.read_csv('/Users/bananavodka/Projects/at2_mla/at2_mla/data/raw/items_weekly_sell_prices.csv')\n",
    "    \n",
    "    print(\"Datasets loaded successfully.\")\n",
    "    return sales_train_df, calendar_df, calendar_events_df, sales_test_df, items_weekly_sales_df"
   ]
  },
  {
   "cell_type": "code",
   "execution_count": 3,
   "id": "a946580a",
   "metadata": {},
   "outputs": [],
   "source": [
    "# Function to preprocess and merge datasets\n",
    "def preprocess_data(sales_train_df, calendar_df, calendar_events_df, items_weekly_sales_df):\n",
    "    # Melt sales data\n",
    "    sales_train_melted = pd.melt(\n",
    "        sales_train_df,\n",
    "        id_vars=['id', 'item_id', 'dept_id', 'cat_id', 'store_id', 'state_id'],\n",
    "        var_name='d',\n",
    "        value_name='sales'\n",
    "    )\n",
    "    \n",
    "    # Merge with calendar data\n",
    "    sales_train_merged = pd.merge(sales_train_melted, calendar_df, how='left', on='d')\n",
    "\n",
    "    # Merge with event data\n",
    "    sales_train_with_events = pd.merge(sales_train_merged, calendar_events_df, how='left', on='date')\n",
    "\n",
    "    # Merge with item prices\n",
    "    sales_train_with_prices = pd.merge(sales_train_with_events, items_weekly_sales_df, how='left', on=['item_id', 'store_id', 'wm_yr_wk'])\n",
    "\n",
    "    # Fill missing event names and types\n",
    "    sales_train_with_prices['event_name'].fillna('No Event', inplace=True)\n",
    "    sales_train_with_prices['event_type'].fillna('None', inplace=True)\n",
    "\n",
    "    # Forward-fill missing prices\n",
    "    sales_train_with_prices['sell_price'].fillna(method='ffill', inplace=True)\n",
    "    sales_train_with_prices['sell_price'].fillna(\n",
    "        sales_train_with_prices.groupby('item_id')['sell_price'].transform('mean'), \n",
    "        inplace=True\n",
    "    )\n",
    "\n",
    "    print(\"Data preprocessed successfully.\")\n",
    "    return sales_train_with_prices"
   ]
  },
  {
   "cell_type": "code",
   "execution_count": 4,
   "id": "1b22a5fc",
   "metadata": {},
   "outputs": [],
   "source": [
    "# Function to create features\n",
    "def create_features(sales_train_with_prices):\n",
    "    # Convert 'date' to datetime\n",
    "    sales_train_with_prices['date'] = pd.to_datetime(sales_train_with_prices['date'])\n",
    "\n",
    "    # Create date-based features\n",
    "    sales_train_with_prices['day'] = sales_train_with_prices['date'].dt.day\n",
    "    sales_train_with_prices['month'] = sales_train_with_prices['date'].dt.month\n",
    "    sales_train_with_prices['weekday'] = sales_train_with_prices['date'].dt.weekday\n",
    "\n",
    "    # Label encoding\n",
    "    encoder_store = LabelEncoder()\n",
    "    encoder_item = LabelEncoder()\n",
    "    sales_train_with_prices['store_id'] = encoder_store.fit_transform(sales_train_with_prices['store_id'])\n",
    "    sales_train_with_prices['item_id'] = encoder_item.fit_transform(sales_train_with_prices['item_id'])\n",
    "\n",
    "    # Initialize label encoders for event names and types\n",
    "    le_event_name = LabelEncoder()\n",
    "    le_event_type = LabelEncoder()\n",
    "    sales_train_with_prices['event_name_encoded'] = le_event_name.fit_transform(sales_train_with_prices['event_name'])\n",
    "    sales_train_with_prices['event_type_encoded'] = le_event_type.fit_transform(sales_train_with_prices['event_type'])\n",
    "\n",
    "    print(\"Features created successfully.\")\n",
    "    return sales_train_with_prices, encoder_store, encoder_item, le_event_name, le_event_type"
   ]
  },
  {
   "cell_type": "code",
   "execution_count": 5,
   "id": "40e47d4b",
   "metadata": {},
   "outputs": [],
   "source": [
    "# Function to aggregate daily sales across all stores and items for Prophet\n",
    "def aggregate_sales(sales_train_with_prices):\n",
    "    # Aggregate total daily sales\n",
    "    sales_data = sales_train_with_prices.groupby('date').agg({'sales': 'sum'}).reset_index()\n",
    "\n",
    "    # Rename columns to match Prophet's expected format\n",
    "    sales_data.rename(columns={'date': 'ds', 'sales': 'y'}, inplace=True)\n",
    "    \n",
    "    print(\"Sales data aggregated successfully.\")\n",
    "    return sales_data"
   ]
  },
  {
   "cell_type": "code",
   "execution_count": 6,
   "id": "4882121e",
   "metadata": {},
   "outputs": [],
   "source": [
    "# Function to train ARIMA model\n",
    "def train_arima(sales_data):\n",
    "    # Convert the aggregated sales data into a time series\n",
    "    sales_series = sales_data.set_index('ds')['y']\n",
    "    \n",
    "    # Train ARIMA model (ARIMA(5, 1, 0) as an example, modify parameters as needed)\n",
    "    arima_model = ARIMA(sales_series, order=(5, 1, 0))\n",
    "    arima_result = arima_model.fit()\n",
    "    \n",
    "    # Save the ARIMA model using joblib\n",
    "    #joblib.dump(arima_result, '/Users/bananavodka/Projects/at2_mla/at2_mla/models/forecasting/ARIMA_model.pkl')\n",
    "    #print(\"ARIMA model saved successfully.\")\n",
    "    \n",
    "    return arima_result"
   ]
  },
  {
   "cell_type": "code",
   "execution_count": 7,
   "id": "852f45e5",
   "metadata": {},
   "outputs": [],
   "source": [
    "# Function to forecast using ARIMA model\n",
    "def forecast_arima(arima_model, periods=7):\n",
    "    forecast = arima_model.forecast(steps=periods)\n",
    "    \n",
    "    # Create future dates for the forecast\n",
    "    last_date = arima_model.data.dates[-1]\n",
    "    future_dates = pd.date_range(last_date, periods=periods+1, freq='D')[1:]\n",
    "    \n",
    "    # Plot the forecast\n",
    "    plt.figure(figsize=(10,6))\n",
    "    plt.plot(forecast.index, forecast, label='Forecast')\n",
    "    plt.title(\"ARIMA Forecast\")\n",
    "    plt.xlabel(\"Date\")\n",
    "    plt.ylabel(\"Sales\")\n",
    "    plt.legend()\n",
    "    plt.show()\n",
    "    \n",
    "    forecast_df = pd.DataFrame({'Date': future_dates, 'Forecasted_Sales': forecast})\n",
    "    print(\"ARIMA Forecast generated successfully.\")\n",
    "    return forecast_df"
   ]
  },
  {
   "cell_type": "code",
   "execution_count": 8,
   "id": "088dd0d3",
   "metadata": {},
   "outputs": [
    {
     "name": "stdout",
     "output_type": "stream",
     "text": [
      "Datasets loaded successfully.\n",
      "Data preprocessed successfully.\n",
      "Features created successfully.\n",
      "Sales data aggregated successfully.\n"
     ]
    },
    {
     "name": "stderr",
     "output_type": "stream",
     "text": [
      "/opt/anaconda3/lib/python3.8/site-packages/statsmodels/tsa/base/tsa_model.py:524: ValueWarning: No frequency information was provided, so inferred frequency D will be used.\n",
      "  warnings.warn('No frequency information was'\n",
      "/opt/anaconda3/lib/python3.8/site-packages/statsmodels/tsa/base/tsa_model.py:524: ValueWarning: No frequency information was provided, so inferred frequency D will be used.\n",
      "  warnings.warn('No frequency information was'\n",
      "/opt/anaconda3/lib/python3.8/site-packages/statsmodels/tsa/base/tsa_model.py:524: ValueWarning: No frequency information was provided, so inferred frequency D will be used.\n",
      "  warnings.warn('No frequency information was'\n"
     ]
    },
    {
     "name": "stdout",
     "output_type": "stream",
     "text": [
      "ARIMA model saved successfully.\n"
     ]
    },
    {
     "data": {
      "image/png": "[encoded data removed]",
      "text/plain": [
       "<Figure size 720x432 with 1 Axes>"
      ]
     },
     "metadata": {
      "needs_background": "light"
     },
     "output_type": "display_data"
    },
    {
     "name": "stdout",
     "output_type": "stream",
     "text": [
      "ARIMA Forecast generated successfully.\n",
      "                 Date  Forecasted_Sales\n",
      "2015-04-19 2015-04-19      39778.550864\n",
      "2015-04-20 2015-04-20      36329.955542\n",
      "2015-04-21 2015-04-21      35587.483480\n",
      "2015-04-22 2015-04-22      33773.875764\n",
      "2015-04-23 2015-04-23      32584.160338\n",
      "2015-04-24 2015-04-24      37176.035216\n",
      "2015-04-25 2015-04-25      39047.239653\n"
     ]
    }
   ],
   "source": [
    "def main():\n",
    "    # Load datasets\n",
    "    sales_train_df, calendar_df, calendar_events_df, sales_test_df, items_weekly_sales_df = load_data()\n",
    "\n",
    "    # Preprocess data\n",
    "    sales_train_with_prices = preprocess_data(sales_train_df, calendar_df, calendar_events_df, items_weekly_sales_df)\n",
    "\n",
    "    # Create features\n",
    "    # Only capture the first value (the DataFrame) from the create_features function\n",
    "    sales_train_with_prices, _, _, _, _ = create_features(sales_train_with_prices)\n",
    "\n",
    "    # Aggregate daily sales for Prophet/ARIMA\n",
    "    sales_data = aggregate_sales(sales_train_with_prices)\n",
    "\n",
    "    # Train ARIMA model\n",
    "    arima_model = train_arima(sales_data)\n",
    "\n",
    "    # Forecast using ARIMA for the next 7 days\n",
    "    arima_forecast = forecast_arima(arima_model, periods=7)\n",
    "\n",
    "    # Display forecasted values\n",
    "    print(arima_forecast)\n",
    "\n",
    "if __name__ == \"__main__\":\n",
    "    main()\n"
   ]
  },
  {
   "cell_type": "code",
   "execution_count": null,
   "id": "ff4cb056",
   "metadata": {},
   "outputs": [],
   "source": []
  }
 ],
 "metadata": {
  "kernelspec": {
   "display_name": "Python 3",
   "language": "python",
   "name": "python3"
  },
  "language_info": {
   "codemirror_mode": {
    "name": "ipython",
    "version": 3
   },
   "file_extension": ".py",
   "mimetype": "text/x-python",
   "name": "python",
   "nbconvert_exporter": "python",
   "pygments_lexer": "ipython3",
   "version": "3.8.8"
  }
 },
 "nbformat": 4,
 "nbformat_minor": 5
}
