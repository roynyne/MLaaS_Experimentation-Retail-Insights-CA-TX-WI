{
 "cells": [
  {
   "cell_type": "code",
   "execution_count": 1,
   "id": "2f52bd63",
   "metadata": {},
   "outputs": [],
   "source": [
    "import pandas as pd\n",
    "import numpy as np\n",
    "from sklearn.model_selection import train_test_split\n",
    "from sklearn.preprocessing import LabelEncoder\n",
    "from sklearn.linear_model import Ridge\n",
    "from sklearn.metrics import mean_squared_error\n",
    "import xgboost as xgb\n",
    "import joblib"
   ]
  },
  {
   "cell_type": "code",
   "execution_count": 3,
   "id": "e77c71fa",
   "metadata": {},
   "outputs": [],
   "source": [
    "# Function to load datasets\n",
    "def load_data():\n",
    "    sales_train_df = pd.read_csv('/Users/bananavodka/Projects/at2_mla/at2_mla/data/raw/sales_train.csv')\n",
    "    calendar_df = pd.read_csv('/Users/bananavodka/Projects/at2_mla/at2_mla/data/raw/calendar.csv')\n",
    "    calendar_events_df = pd.read_csv('/Users/bananavodka/Projects/at2_mla/at2_mla/data/raw/calendar_events.csv')\n",
    "    sales_test_df = pd.read_csv('/Users/bananavodka/Projects/at2_mla/at2_mla/data/raw/sales_test.csv')\n",
    "    items_weekly_sales_df = pd.read_csv('/Users/bananavodka/Projects/at2_mla/at2_mla/data/raw/items_weekly_sell_prices.csv')\n",
    "    \n",
    "    print(\"Datasets loaded successfully.\")\n",
    "    return sales_train_df, calendar_df, calendar_events_df, sales_test_df, items_weekly_sales_df"
   ]
  },
  {
   "cell_type": "code",
   "execution_count": 4,
   "id": "a946580a",
   "metadata": {},
   "outputs": [],
   "source": [
    "# Function to preprocess and merge datasets\n",
    "def preprocess_data(sales_train_df, calendar_df, calendar_events_df, items_weekly_sales_df):\n",
    "    # Melt sales data\n",
    "    sales_train_melted = pd.melt(\n",
    "        sales_train_df,\n",
    "        id_vars=['id', 'item_id', 'dept_id', 'cat_id', 'store_id', 'state_id'],\n",
    "        var_name='d',\n",
    "        value_name='sales'\n",
    "    )\n",
    "    \n",
    "    # Merge with calendar data\n",
    "    sales_train_merged = pd.merge(sales_train_melted, calendar_df, how='left', on='d')\n",
    "\n",
    "    # Merge with event data\n",
    "    sales_train_with_events = pd.merge(sales_train_merged, calendar_events_df, how='left', on='date')\n",
    "\n",
    "    # Merge with item prices\n",
    "    sales_train_with_prices = pd.merge(sales_train_with_events, items_weekly_sales_df, how='left', on=['item_id', 'store_id', 'wm_yr_wk'])\n",
    "\n",
    "    # Fill missing event names and types\n",
    "    sales_train_with_prices['event_name'].fillna('No Event', inplace=True)\n",
    "    sales_train_with_prices['event_type'].fillna('None', inplace=True)\n",
    "\n",
    "    # Forward-fill missing prices\n",
    "    sales_train_with_prices['sell_price'].fillna(method='ffill', inplace=True)\n",
    "    sales_train_with_prices['sell_price'].fillna(\n",
    "        sales_train_with_prices.groupby('item_id')['sell_price'].transform('mean'), \n",
    "        inplace=True\n",
    "    )\n",
    "\n",
    "    print(\"Data preprocessed successfully.\")\n",
    "    return sales_train_with_prices"
   ]
  },
  {
   "cell_type": "code",
   "execution_count": 5,
   "id": "1b22a5fc",
   "metadata": {},
   "outputs": [],
   "source": [
    "# Function to create features\n",
    "def create_features(sales_train_with_prices):\n",
    "    # Convert 'date' to datetime\n",
    "    sales_train_with_prices['date'] = pd.to_datetime(sales_train_with_prices['date'])\n",
    "\n",
    "    # Create date-based features\n",
    "    sales_train_with_prices['day'] = sales_train_with_prices['date'].dt.day\n",
    "    sales_train_with_prices['month'] = sales_train_with_prices['date'].dt.month\n",
    "    sales_train_with_prices['weekday'] = sales_train_with_prices['date'].dt.weekday\n",
    "\n",
    "    # Label encoding\n",
    "    encoder_store = LabelEncoder()\n",
    "    encoder_item = LabelEncoder()\n",
    "    sales_train_with_prices['store_id'] = encoder_store.fit_transform(sales_train_with_prices['store_id'])\n",
    "    sales_train_with_prices['item_id'] = encoder_item.fit_transform(sales_train_with_prices['item_id'])\n",
    "\n",
    "    # Initialize label encoders for event names and types\n",
    "    le_event_name = LabelEncoder()\n",
    "    le_event_type = LabelEncoder()\n",
    "    sales_train_with_prices['event_name_encoded'] = le_event_name.fit_transform(sales_train_with_prices['event_name'])\n",
    "    sales_train_with_prices['event_type_encoded'] = le_event_type.fit_transform(sales_train_with_prices['event_type'])\n",
    "\n",
    "    print(\"Features created successfully.\")\n",
    "    return sales_train_with_prices, encoder_store, encoder_item, le_event_name, le_event_type"
   ]
  },
  {
   "cell_type": "code",
   "execution_count": 6,
   "id": "3fbc85ce",
   "metadata": {},
   "outputs": [],
   "source": [
    "\n",
    "# Function to define features and split data\n",
    "def define_and_split_features(sales_train_with_prices):\n",
    "    features = ['store_id', 'item_id', 'day', 'month', 'weekday', 'sell_price', 'event_name_encoded', 'event_type_encoded']\n",
    "    X = sales_train_with_prices[features]\n",
    "    y = sales_train_with_prices['sales']\n",
    "    \n",
    "    # Split the data\n",
    "    X_train, X_test, y_train, y_test = train_test_split(X, y, test_size=0.2, shuffle=False)\n",
    "    print(\"Data split into training and testing sets.\")\n",
    "    return X_train, X_test, y_train, y_test"
   ]
  },
  {
   "cell_type": "code",
   "execution_count": 7,
   "id": "1050a88d",
   "metadata": {},
   "outputs": [],
   "source": [
    "# Function to train Ridge model\n",
    "def train_ridge(X_train, y_train):\n",
    "    ridge_model = Ridge()\n",
    "    ridge_model.fit(X_train, y_train)\n",
    "    print(\"Ridge model trained successfully.\")\n",
    "    return ridge_model"
   ]
  },
  {
   "cell_type": "code",
   "execution_count": 8,
   "id": "5964d731",
   "metadata": {},
   "outputs": [],
   "source": [
    "# Function to evaluate model\n",
    "def evaluate_model(model, X_test, y_test, model_name=\"Model\"):\n",
    "    y_pred = model.predict(X_test)\n",
    "    rmse = mean_squared_error(y_test, y_pred, squared=False)\n",
    "    print(f\"Test RMSE with {model_name}: {rmse}\")\n",
    "    return rmse"
   ]
  },
  {
   "cell_type": "code",
   "execution_count": 9,
   "id": "1492e88c",
   "metadata": {},
   "outputs": [],
   "source": [
    "# Function to train XGBoost model\n",
    "def train_xgboost(X_train, y_train):\n",
    "    xgb_model = xgb.XGBRegressor(n_estimators=100, max_depth=10, learning_rate=0.1, random_state=42)\n",
    "    xgb_model.fit(X_train, y_train)\n",
    "    print(\"XGBoost model trained successfully.\")\n",
    "    return xgb_model"
   ]
  },
  {
   "cell_type": "code",
   "execution_count": 10,
   "id": "5b9d17b5",
   "metadata": {},
   "outputs": [
    {
     "name": "stdout",
     "output_type": "stream",
     "text": [
      "Datasets loaded successfully.\n",
      "Data preprocessed successfully.\n",
      "Features created successfully.\n",
      "Data split into training and testing sets.\n",
      "Ridge model trained successfully.\n",
      "Test RMSE with Ridge Regression: 3.5442486407875036\n",
      "XGBoost model trained successfully.\n",
      "Test RMSE with XGBoost: 3.0138805175029355\n"
     ]
    }
   ],
   "source": [
    "# Main function to execute the entire pipeline\n",
    "def main():\n",
    "    # Load data\n",
    "    sales_train_df, calendar_df, calendar_events_df, sales_test_df, items_weekly_sales_df = load_data()\n",
    "\n",
    "    # Preprocess data\n",
    "    sales_train_with_prices = preprocess_data(sales_train_df, calendar_df, calendar_events_df, items_weekly_sales_df)\n",
    "\n",
    "    # Create features\n",
    "    sales_train_with_prices, encoder_store, encoder_item, le_event_name, le_event_type = create_features(sales_train_with_prices)\n",
    "\n",
    "    # Define and split features\n",
    "    X_train, X_test, y_train, y_test = define_and_split_features(sales_train_with_prices)\n",
    "\n",
    "    # Train Ridge model\n",
    "    ridge_model = train_ridge(X_train, y_train)\n",
    "\n",
    "    # Evaluate Ridge model\n",
    "    evaluate_model(ridge_model, X_test, y_test, model_name=\"Ridge Regression\")\n",
    "    \n",
    "    # Train XGBoost model\n",
    "    X_train_subset = X_train.sample(frac=0.10, random_state=42)\n",
    "    y_train_subset = y_train[X_train_subset.index]\n",
    "    xgb_model = train_xgboost(X_train_subset, y_train_subset)\n",
    "\n",
    "    # Evaluate XGBoost model\n",
    "    evaluate_model(xgb_model, X_test, y_test, model_name=\"XGBoost\")\n",
    "\n",
    "if __name__ == \"__main__\":\n",
    "    main()"
   ]
  }
 ],
 "metadata": {
  "kernelspec": {
   "display_name": "Python 3",
   "language": "python",
   "name": "python3"
  },
  "language_info": {
   "codemirror_mode": {
    "name": "ipython",
    "version": 3
   },
   "file_extension": ".py",
   "mimetype": "text/x-python",
   "name": "python",
   "nbconvert_exporter": "python",
   "pygments_lexer": "ipython3",
   "version": "3.8.8"
  }
 },
 "nbformat": 4,
 "nbformat_minor": 5
}
